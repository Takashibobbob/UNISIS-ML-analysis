{
 "cells": [
  {
   "cell_type": "markdown",
   "id": "c68fc7b6-acd1-4347-b49c-23cc2db57c33",
   "metadata": {},
   "source": [
    "## Data preparation\n",
    "We need to provide coordinates and embedding as the training data and forces as the label. You can git clone https://github.com/Hori-Lab/UNISIS.git and go to ./utils/ML/ where you will see multiple python files to process data."
   ]
  },
  {
   "cell_type": "markdown",
   "id": "922b9e70-08cb-4f00-83d5-fc1b72f667db",
   "metadata": {},
   "source": [
    "### Force data\n",
    "The first thing is to run **DCD-force mode** (Naoto can help you compile the environment) on the dcd file to generate 6 forces including angle, bond, base pair, electrostatics and excluded volumn. Then, the force files need to be trandformed into npy files which has smaller size and also easier to be processed in the neural network. Please use **force_out_to_npy.py** https://github.com/Hori-Lab/UNISIS/blob/main/utils/ML/force_out_to_npy.py to transform."
   ]
  },
  {
   "cell_type": "markdown",
   "id": "863f6f08-2131-4126-b0bc-f47c86873d63",
   "metadata": {},
   "source": [
    "Once you obtain the npy files, angle and base pair and electrostatics forces will be added up to get delta forces as the label."
   ]
  },
  {
   "cell_type": "code",
   "execution_count": null,
   "id": "e9b14e6b-edcc-493c-8f97-8738740d247e",
   "metadata": {},
   "outputs": [],
   "source": [
    "import numpy as np\n",
    "import os"
   ]
  },
  {
   "cell_type": "code",
   "execution_count": null,
   "id": "ebbccdf1-5c17-43f7-925d-b6c6ac7c4c14",
   "metadata": {},
   "outputs": [],
   "source": [
    "array1 = np.load('./force_angl.npy')\n",
    "array2 = np.load('./force_bond.npy')\n",
    "array3 = np.load('./force_bp.npy')\n",
    "array4 = np.load('./force_dihe.npy')\n",
    "array5 = np.load('./force_ele.npy')\n",
    "array6 = np.load('./force_exv.npy')"
   ]
  },
  {
   "cell_type": "code",
   "execution_count": null,
   "id": "457b00cc-2dd5-4472-902f-d9e7110cae1d",
   "metadata": {},
   "outputs": [],
   "source": [
    "delta_forces = array1 + array3 + array5"
   ]
  },
  {
   "cell_type": "code",
   "execution_count": null,
   "id": "e171b177-38a2-4c14-9935-adae18f5ee05",
   "metadata": {},
   "outputs": [],
   "source": [
    "np.save('./force_deltaforces.npy', delta_forces) "
   ]
  },
  {
   "cell_type": "markdown",
   "id": "3b3bb4ee-f254-48a6-9481-ede600ff7408",
   "metadata": {},
   "source": [
    "### coordinates data"
   ]
  },
  {
   "cell_type": "markdown",
   "id": "8177c357-fc31-4db3-9abd-71e63ee2fdde",
   "metadata": {},
   "source": [
    "Please use **dcd_to_npy.py** https://github.com/Hori-Lab/UNISIS/blob/main/utils/ML/dcd_to_npy.py to convert dcd file to npy file which contains the coordinates for every frames."
   ]
  },
  {
   "cell_type": "markdown",
   "id": "ff2cb804-ea6c-4492-8bb0-2e3cb2108292",
   "metadata": {},
   "source": [
    "### Embedding"
   ]
  },
  {
   "cell_type": "markdown",
   "id": "84dca046-cabe-4e38-8b3a-1e6359461a42",
   "metadata": {},
   "source": [
    "Please use **fasta_to_embedding.py** https://github.com/Hori-Lab/UNISIS/blob/main/utils/ML/fasta_to_embedding.py to convert fasta file to npy file which uses embedding numbers to represent nucleotides."
   ]
  },
  {
   "cell_type": "markdown",
   "id": "1f214105-252d-498b-a411-3d8971c73e12",
   "metadata": {},
   "source": [
    "## After Training and Simulation"
   ]
  },
  {
   "cell_type": "markdown",
   "id": "7be5f4d5-a603-4905-8d4d-47b591e17403",
   "metadata": {},
   "source": [
    "## Training Curve\n",
    "In your log folder, please check the metrics.csv which has the information about training loss, validation loss and test loss etc. You can plot them using the following cell."
   ]
  },
  {
   "cell_type": "code",
   "execution_count": null,
   "id": "4d67bb4a-b4d5-4127-97d5-67aa06ed3810",
   "metadata": {},
   "outputs": [],
   "source": [
    "import pandas as pd\n",
    "import matplotlib.pyplot as plt\n",
    "\n",
    "# Load the dataset\n",
    "df = pd.read_csv('./metrics.csv')\n",
    "\n",
    "# Create a copy of the dataframe and remove the last value of 'test_total_l1_loss'\n",
    "df_modified = df.copy()\n",
    "df_modified.loc[df_modified.index[-1], 'test_total_l1_loss'] = None  # Set the last value to None\n",
    "\n",
    "# Create subplots\n",
    "fig, ax = plt.subplots(nrows=2, figsize=[6, 4])\n",
    "\n",
    "# Plot training and validation MSE loss\n",
    "df.plot(x='epoch', y=['train_total_mse_loss', 'val_total_mse_loss'], ax=ax[0])\n",
    "\n",
    "# Plot modified test L1 loss (excluding the last value)\n",
    "df_modified.dropna(subset=['test_total_l1_loss']).plot(x='epoch', y='test_total_l1_loss', ax=ax[0], color='green', label='test_total_l1_loss')\n",
    "\n",
    "# Set label for the y-axis of the first subplot\n",
    "ax[0].scatter([299], [df['val_total_mse_loss'].loc[299]], s=200, c='r', marker=(5, 1), label='selected epoch')\n",
    "ax[0].set_ylabel('Loss')\n",
    "\n",
    "# Plot learning rate\n",
    "df.plot(x='epoch', y='lr', ax=ax[1])\n",
    "\n",
    "# Set label for the y-axis of the second subplot\n",
    "ax[1].set_ylabel('Learning Rate')\n",
    "\n",
    "# Display the plots\n",
    "plt.show()"
   ]
  },
  {
   "cell_type": "markdown",
   "id": "347e38bc-c6ac-4ae9-a6db-21c24df1fcbe",
   "metadata": {},
   "source": [
    "### RMSD"
   ]
  },
  {
   "cell_type": "markdown",
   "id": "5c2ee039-0430-454f-9383-ffedde27cdba",
   "metadata": {},
   "source": [
    "RMSD measures the average distance between atoms of two molecular structures after optimal superposition. It quantifies structural similarity. Firstly, you need to git clone https://github.com/naotohori/life-of-py.git and use **bestfit_dcd_by_pdb_part_onlyRMSD.py**\n",
    "\n",
    "Here is a python file to process many dcd files to output RMSD valuse. Please replace the neccessary paths. https://github.com/Takashibobbob/UNISIS-ML-analysis/blob/main/RMSD/all_sim_npy_to_dcd_rmsd_native.py\n",
    "\n",
    "After you obtain the RMSD results, use the following cell to plot."
   ]
  },
  {
   "cell_type": "code",
   "execution_count": null,
   "id": "06868c22-bbca-4690-bb9e-996be37f797e",
   "metadata": {},
   "outputs": [],
   "source": [
    "def plot_rmsd_native_mirror(dirs):\n",
    "    #nreplica = 32\n",
    "    ncols = 5\n",
    "    nrows = 2\n",
    "    fig, axs = plt.subplots(nrows=nrows, ncols=ncols, figsize=[3*ncols, 2*nrows])\n",
    "    for irep, dir in enumerate(dirs):\n",
    "        irow = irep // ncols\n",
    "        icol = irep % ncols\n",
    "        rmsd1 = []\n",
    "        time1 = []\n",
    "        with open(f\"{dir}/md.rmsd\",'r') as file:\n",
    "            for l, j in enumerate(file):\n",
    "                time1.append(float(l) * 10 ** (-5))\n",
    "                rmsd1.append(float(j))\n",
    "            axs[irow,icol].plot(time1, rmsd1, color = 'tomato', label = 'native')\n",
    "\n",
    "        rmsd2 = []\n",
    "        time2 = []\n",
    "        with open(f\"{dir}/md_mirror.rmsd\",'r') as file:\n",
    "            for l, j in enumerate(file):\n",
    "                time2.append(float(l) * 10 ** (-5))\n",
    "                rmsd2.append(float(j))\n",
    "            axs[irow,icol].plot(time2, rmsd2, color = 'royalblue', label = 'mirror')\n",
    "            \n",
    "            axs[irow,icol].set_ylim(0,40)\n",
    "            axs[irow,icol].text(0, 5, f'{irep}')\n",
    "        if irep == 0:\n",
    "            axs[irep,icol].legend()\n",
    "             \n",
    "            # Add labels for x-axis and y-axis for the entire figure\n",
    "    for ax in axs[-1]:  # Set x-labels only on the last row\n",
    "        ax.set_xlabel(\"Time (μs)\")\n",
    "    for ax in axs[:, 0]:  # Set y-labels only on the first column\n",
    "        ax.set_ylabel(\"RMSD (Å)\")\n",
    "\n",
    "    plt.tight_layout()\n",
    "    plt.show()\n",
    "        \n",
    "dirs = sorted(glob.glob('./Simulation/Simulation_3_30_36_23456/run_all/run0**'))\n",
    "\n",
    "plot_rmsd_native_mirror(dirs)"
   ]
  },
  {
   "cell_type": "markdown",
   "id": "2afc2730-8f90-4544-95de-c43a40c82e63",
   "metadata": {},
   "source": [
    "### Q-score"
   ]
  },
  {
   "cell_type": "markdown",
   "id": "62f2b5d4-6d28-4c97-96cf-142cbe565292",
   "metadata": {},
   "source": [
    "Q-score evaluates how similar two structures are based on their contact patterns (e.g., between residues or nucleotides), instead of distances alone. Please use the python file https://github.com/Takashibobbob/UNISIS-ML-analysis/blob/main/Q_score/dcd_to_Qscore.py to process multiple dcd files. Note that /users/ssyjb1/sis/sis this path is going to be replaced by the path where you git clone https://github.com/Hori-Lab/UNISIS.git and ask Naoto to help you compile.\n",
    "\n",
    "Note that sisbp_nbp.py should be in https://github.com/naotohori/life-of-py.git that you have git cloned already. Same here, please replace the necessary paths.\n",
    "\n",
    "After you obtain the Q-score values, please use the following cell to plot out."
   ]
  },
  {
   "cell_type": "code",
   "execution_count": null,
   "id": "a32ebef0-0408-495d-baa6-33249771a440",
   "metadata": {},
   "outputs": [],
   "source": [
    "def plot_Q_score(dirs):\n",
    "    nplots = len(dirs)\n",
    "    if nplots == 0:\n",
    "        print(\"No directories found.\")\n",
    "        return\n",
    "    \n",
    "    ncols = min(nplots, 5)  # Max 5 columns\n",
    "    nrows = (nplots + ncols - 1) // ncols  # Auto-adjust rows\n",
    "    fig, axs = plt.subplots(nrows=nrows, ncols=ncols, figsize=[3*ncols, 2*nrows])\n",
    "    axs = axs.flatten()  # Flatten to handle indexing properly\n",
    "    \n",
    "    for irep, dir in enumerate(dirs):\n",
    "        Q_score = []\n",
    "        time1 = []\n",
    "        md_nbp_path = os.path.join(dir, 'md.nbp')\n",
    "\n",
    "        if not os.path.exists(md_nbp_path):\n",
    "            print(f\"Skipping {md_nbp_path} (file not found)\")\n",
    "            continue\n",
    "\n",
    "        with open(md_nbp_path, 'r') as file:\n",
    "            for l, j in enumerate(file):\n",
    "                time1.append(float(l) * 10 ** (-5))\n",
    "                Q_score.append(float(j.split()[1]))\n",
    "            axs[irep].plot(time1, Q_score, color='#F9AE7B', label='native')\n",
    "        \n",
    "        axs[irep].set_ylim(bottom=0.0, top=max(Q_score) * 1.1)\n",
    "        axs[irep].text(0, max(Q_score) * 0.9, f'{irep}')\n",
    "       \n",
    "    last_row_start = (nrows - 1) * ncols\n",
    "    for i in range(last_row_start, nplots):\n",
    "        axs[i].set_xlabel(\"Time (μs)\")\n",
    "    \n",
    "    for i in range(0, nplots, ncols):\n",
    "        axs[i].set_ylabel(\"Q-score\")\n",
    "        \n",
    "    plt.tight_layout()\n",
    "    plt.show()\n",
    "\n",
    "# Get directories\n",
    "dirs = sorted(glob.glob('/users/ssyjb1/RNA-ML-VPK-HP2/Simulation/Simulation_3_30_36_Q/run_all/run*'))\n",
    "\n",
    "# Run function\n",
    "plot_Q_score(dirs)"
   ]
  },
  {
   "cell_type": "markdown",
   "id": "729e289c-5f9f-4bd9-b919-902456fc1ac5",
   "metadata": {},
   "source": [
    "### TICA"
   ]
  },
  {
   "cell_type": "markdown",
   "id": "f22406cb-ec80-4d83-8c2c-074cdd35779b",
   "metadata": {},
   "source": [
    "> I would suggest that you can create a new environment for TICA rather than the one you use for Training/Simulation and make sure to install all the require libraries in the following python files."
   ]
  },
  {
   "cell_type": "markdown",
   "id": "c4392567-b46a-4157-8c16-25f51f25cd58",
   "metadata": {},
   "source": [
    "TICA is a dimensionality reduction technique that extracts the slowest dynamical modes from molecular simulation data. In this project, we use TICA to produce energy landscapes for both one dimension and two dimension.\n",
    "\n",
    "Firstly, it is important to select your desired trajectory (e.g ML simulation) which need to be superimposed to reference structure (native folded structure) to get a superimposed version dcd file. Please use https://github.com/naotohori/life-of-py/blob/master/bestfit_dcd_by_pdb.py to do this step. The reason is to avoid the noise when doing reduction of dimensions\n",
    "\n",
    "Then, convert the superimposed dcd file to npy file which has the coordinates that is similar to what you have done in data preparation. Please use https://github.com/Hori-Lab/UNISIS/blob/main/utils/ML/dcd_to_npy.py.\n",
    "\n",
    "\n",
    "In order to obtain the two TICA vectors, please use the python file https://github.com/Takashibobbob/UNISIS-ML-analysis/blob/main/TICA/TICA_cov_sis.py. The first and second TICA vectors will be stored in e.g. ML_TICA.txt. Note that it will take very long time especially for long simulation. please use **condor system to submit**."
   ]
  },
  {
   "cell_type": "markdown",
   "id": "f078c20d-b550-49ae-8cca-5a054db08161",
   "metadata": {},
   "source": [
    "After that, it is able to use the TICA vetors to project on another simulation (e.g. reference simulation). Please use the python file https://github.com/Takashibobbob/UNISIS-ML-analysis/blob/main/TICA/TICA_ML.py to obtain the necessary files to plot energy landscape. Note that you need to extract the mean value of your desired trajectory (e.g. ML simulation) coordinates corresponding to the input **mean_ref**, use the following cell. Also, you need to superimpose the dcd file to reference structure to obtain coordinates. **TICA_cov** is the ML_TICA.txt"
   ]
  },
  {
   "cell_type": "code",
   "execution_count": null,
   "id": "d65db7d9-afe1-4bc7-8f3c-7762e07f37eb",
   "metadata": {},
   "outputs": [],
   "source": [
    "import numpy as np\n",
    "coordinates_align = np.load('/users/ssyjb1/RNA-ML-VPK-HP2/Simulation/active_force/Simulation_3_30_36_95472/run_all/coordinates.npy')\n",
    "mean_value = np.mean(coordinates_align,axis=0)\n",
    "mean_free = coordinates_align - mean_value\n",
    "np.savetxt('/users/ssyjb1/RNA-ML-VPK-HP2/Simulation/active_force/Simulation_3_30_36_95472/run_all/mean_value.txt', mean_value)"
   ]
  },
  {
   "cell_type": "markdown",
   "id": "53ac0488-7f8f-4b95-87c0-a9e3604f7b61",
   "metadata": {},
   "source": [
    "Once you got the output files from **TICA_cov_sis.py** and **TICA_ML.py**, please use https://github.com/Takashibobbob/UNISIS-ML-analysis/blob/main/TICA/process_tica.py to plot out the energy landscape. Remember to do RMSD analysis on the dcd file to get RMSD values which is an input."
   ]
  },
  {
   "cell_type": "code",
   "execution_count": null,
   "id": "718bff64-41bf-419f-955d-454954fedc73",
   "metadata": {},
   "outputs": [],
   "source": []
  }
 ],
 "metadata": {
  "kernelspec": {
   "display_name": "torchmd",
   "language": "python",
   "name": "torchmd"
  },
  "language_info": {
   "codemirror_mode": {
    "name": "ipython",
    "version": 3
   },
   "file_extension": ".py",
   "mimetype": "text/x-python",
   "name": "python",
   "nbconvert_exporter": "python",
   "pygments_lexer": "ipython3",
   "version": "3.10.13"
  }
 },
 "nbformat": 4,
 "nbformat_minor": 5
}
